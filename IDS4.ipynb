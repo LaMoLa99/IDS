{
 "cells": [
  {
   "cell_type": "markdown",
   "id": "30e9ce05",
   "metadata": {},
   "source": [
    "# Laboratory exercise 4\n",
    "\n",
    "In this laboratory exercise you will use the questionnaire and answers given below"
   ]
  },
  {
   "cell_type": "code",
   "execution_count": 8,
   "id": "d6820020",
   "metadata": {},
   "outputs": [],
   "source": [
    "import numpy as np \n",
    "import pandas as pd\n",
    "\n",
    "def cronbach_alpha(items):\n",
    "        num_items = items.shape[1]\n",
    "        total_variance = np.var(items.sum(axis=1), ddof=num_items)\n",
    "        observed_variance = np.sum(items.var(axis=0, ddof=1))\n",
    "        \n",
    "        cronbach_alpha = (num_items / (num_items - 1)) * (1 - observed_variance / total_variance)\n",
    "        \n",
    "        return cronbach_alpha"
   ]
  },
  {
   "cell_type": "code",
   "execution_count": 9,
   "id": "c53f916c",
   "metadata": {},
   "outputs": [],
   "source": [
    "questionnaire = pd.DataFrame({'Q1': [1, 2, 2, 3, 2, 2, 3, 3, 2, 3],\n",
    "                              'Q2': [1, 1, 1, 2, 3, 3, 2, 3, 3, 3],\n",
    "                              'Q3': [1, 1, 2, 1, 2, 3, 3, 3, 2, 3]})"
   ]
  },
  {
   "cell_type": "markdown",
   "id": "ce36a49d",
   "metadata": {},
   "source": [
    "1. Write a function to detrmine the realiability of the questionnaire answers with Cronbach's Alpha."
   ]
  },
  {
   "cell_type": "code",
   "execution_count": 11,
   "id": "3f913913",
   "metadata": {},
   "outputs": [
    {
     "name": "stdout",
     "output_type": "stream",
     "text": [
      "Cronbach's Alpha:  0.9349\n"
     ]
    }
   ],
   "source": [
    "cronbach_alpha_value = cronbach_alpha(questionnaire)\n",
    "\n",
    "print(f\"Cronbach's Alpha: {cronbach_alpha_value: .4f}\")\n"
   ]
  },
  {
   "cell_type": "code",
   "execution_count": 1,
   "id": "f90986d7",
   "metadata": {},
   "outputs": [
    {
     "ename": "NameError",
     "evalue": "name 'pg' is not defined",
     "output_type": "error",
     "traceback": [
      "\u001b[1;31m---------------------------------------------------------------------------\u001b[0m",
      "\u001b[1;31mNameError\u001b[0m                                 Traceback (most recent call last)",
      "Cell \u001b[1;32mIn[1], line 1\u001b[0m\n\u001b[1;32m----> 1\u001b[0m pg\u001b[38;5;241m.\u001b[39mcronbach_alpha(data\u001b[38;5;241m=\u001b[39mquestionnaire)\n",
      "\u001b[1;31mNameError\u001b[0m: name 'pg' is not defined"
     ]
    }
   ],
   "source": [
    "#pg.cronbach_alpha(data=questionnaire)"
   ]
  },
  {
   "cell_type": "markdown",
   "id": "69cb9d0a",
   "metadata": {},
   "source": [
    "2. Explain the differences between in-house data labeling, crowdsourcing and outsourcing. "
   ]
  },
  {
   "cell_type": "raw",
   "id": "850a3980",
   "metadata": {},
   "source": [
    "In-house data labeling involves the internal assignment of data labeling tasks within an organization, utilizing a team or individuals directly employed by the company. \n",
    "This method ensures that the data labeling process occurs within the company's premises or infrastructure, providing greater control, supervision, and customization options. \n",
    "In-house labeling often requires dedicated resources, infrastructure, and expertise but offers direct oversight, enabling tailored labeling criteria based on specific project needs. \n",
    "It's particularly suitable for handling sensitive or confidential data that needs to be managed internally.\n",
    "\n",
    "Crowdsourcing data labeling entails outsourcing data labeling tasks to a widely distributed group of individuals, referred to as the \"crowd,\" through online platforms like Amazon Mechanical Turk or CrowdFlower. \n",
    "Multiple workers from diverse backgrounds label small segments of data based on predefined guidelines or tasks provided by the requester. Crowdsourcing offers scalability, quicker turnaround times, and potentially reduced costs due to leveraging a large pool of workers. \n",
    "However, maintaining consistent quality across annotations can be challenging due to varying expertise levels and potential inconsistencies among workers.\n",
    "\n",
    "Outsourcing data labeling involves hiring third-party services or specialized companies to handle data labeling tasks on behalf of an organization. \n",
    "#These external entities undertake the responsibility of labeling data based on provided requirements, guidelines, and criteria. \n",
    "Outsourcing can provide expertise, specialized tools, and resources for data labeling tasks that an organization may lack internally. \n",
    "It also offers flexibility in scaling resources based on project demands. However, managing quality control and effective communication with external parties are crucial aspects when outsourcing to ensure that the labeling meets required standards and specifications. \n",
    "Organizations often consider a combination of these approaches based on their specific needs, resources, and project constraints."
   ]
  },
  {
   "cell_type": "markdown",
   "id": "ce3d3e91",
   "metadata": {},
   "source": [
    "3. Explain the main differences between annotation for image classification, object detection and image segmentation."
   ]
  },
  {
   "cell_type": "raw",
   "id": "97dd7154",
   "metadata": {},
   "source": [
    "Annotation for image classification, object detection, and image segmentation encompasses distinct methodologies tailored to different machine learning tasks. \n",
    "In image classification, the primary objective is to categorize an entire image into predefined classes or categories. \n",
    "The annotation process for image classification involves assigning a single label to the entire image, representing the primary subject or category depicted. \n",
    "The annotation format typically comprises a singular label denoting the image's content, useful for tasks such as classifying images into categories like 'cat,' 'dog,' 'car,' or 'tree.'\n",
    "\n",
    "On the other hand, object detection focuses on identifying and localizing multiple objects within an image. \n",
    "Annotations for object detection involve marking the locations of individual objects by drawing bounding boxes around them and assigning corresponding class labels. \n",
    "These annotations consist of multiple bounding boxes accompanied by class labels within a single image. \n",
    "Object detection tasks commonly involve identifying and localizing various objects, such as cars, people, or animals, within images, enabling machines to recognize and differentiate between multiple objects simultaneously.\n",
    "\n",
    "Image segmentation aims to delineate and segment each pixel in an image into distinct regions or objects. \n",
    "Annotations for image segmentation require outlining the exact boundaries of objects or regions within the image and assigning a unique label or identifier to each pixel within those boundaries. \n",
    "The annotation format in image segmentation involves pixel-level annotations depicting each pixel's membership in a specific object or segment, often represented in masks or pixel-level labels. \n",
    "Image segmentation tasks include separating and segmenting objects, such as semantic segmentation for differentiating object categories or instance segmentation for identifying individual instances of objects within an image."
   ]
  }
 ],
 "metadata": {
  "kernelspec": {
   "display_name": "Python 3 (ipykernel)",
   "language": "python",
   "name": "python3"
  },
  "language_info": {
   "codemirror_mode": {
    "name": "ipython",
    "version": 3
   },
   "file_extension": ".py",
   "mimetype": "text/x-python",
   "name": "python",
   "nbconvert_exporter": "python",
   "pygments_lexer": "ipython3",
   "version": "3.11.5"
  }
 },
 "nbformat": 4,
 "nbformat_minor": 5
}
